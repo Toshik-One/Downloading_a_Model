{
  "nbformat": 4,
  "nbformat_minor": 0,
  "metadata": {
    "colab": {
      "provenance": []
    },
    "kernelspec": {
      "name": "python3",
      "display_name": "Python 3"
    },
    "language_info": {
      "name": "python"
    }
  },
  "cells": [
    {
      "cell_type": "code",
      "source": [
        "#@markdown <h1> <img src='https://logosmarcas.net/wp-content/uploads/2020/12/Google-Drive-Emblema.png' height=\"130\">\n",
        "from google.colab import drive\n",
        "drive.mount('/content/gdrive')"
      ],
      "metadata": {
        "id": "qENNtqvBylIt",
        "cellView": "form"
      },
      "execution_count": null,
      "outputs": []
    },
    {
      "cell_type": "code",
      "source": [
        "import os\n",
        "import requests\n",
        "import base64\n",
        "from tqdm.auto import tqdm\n",
        "\n",
        "blasphemy = base64.b64decode((\"d2VidWk=\").encode('ascii')).decode('ascii')\n",
        "\n",
        "# @markdown # Скачивание Моделей с <font color=\"yellow\">HuggingFace</font> <a href=\"https://huggingface.co\"><img src='https://huggingface.co/front/assets/huggingface_logo-noborder.svg' height=\"35\"/></a> /<font color=\"#1818e7\">CivitAI</font> <a href=\"https://civitai.com\"><img src='https://cdn.discordapp.com/role-icons/1052970367741866065/e4b3e6864c8a68594f94c7c3c928241d.webp?size=128&quality=lossless' height=\"35\"/></a>\n",
        "URL = \"\" #@param {type:\"string\"}\n",
        "Directory = \"Model\" #@param [\"Model\", \"VAE\", \"Lora\", \"Hypernetworks\", \"Textual Inversions\"]\n",
        "#@markdown - Если нужно в другое место укажи путь.\n",
        "path = \"\" #@param {type:\"string\"}\n",
        "#@markdown - Если путь содержит stable-diffusion-wеbui то замените его на stable-diffusion-{blasphemy}\n",
        "\n",
        "if not URL:\n",
        "    print(\"Вы не ввели ссылку для скачивания.\")\n",
        "else:\n",
        "    if \"civitai\" in URL:\n",
        "        response = requests.get(URL, stream=True)\n",
        "        total_size = int(response.headers.get(\"content-length\", 0))\n",
        "        block_size = 1024 # 1 Kibibyte\n",
        "        progress_bar_length = 512\n",
        "        progress_bar = tqdm(total=total_size, unit=\"iB\", unit_scale=True, ncols=progress_bar_length)\n",
        "        filename = response.headers.get('content-disposition')\n",
        "        if filename:\n",
        "            filename = filename.split('filename=')[1].strip('\\\"')\n",
        "        else:\n",
        "            filename = URL.split(\"/\")[-1]\n",
        "        if path:\n",
        "            pathh = path.format(blasphemy=blasphemy)\n",
        "        else:\n",
        "            if Directory == \"Model\":\n",
        "                destination_path = \"/content/gdrive/MyDrive/sd/stable-diffusion-\"+blasphemy+\"/models/Stable-diffusion\"\n",
        "            elif Directory == \"VAE\":\n",
        "                destination_path = \"/content/gdrive/MyDrive/sd/stable-diffusion-\"+blasphemy+\"/models/VAE\"\n",
        "            elif Directory == \"Lora\":\n",
        "                destination_path = \"/content/gdrive/MyDrive/sd/stable-diffusion-\"+blasphemy+\"/models/Lora\"\n",
        "            elif Directory == \"Hypernetworks\":\n",
        "                destination_path = \"/content/gdrive/MyDrive/sd/stable-diffusion-\"+blasphemy+\"/models/hypernetworks\"\n",
        "            elif Directory == \"Textual Inversions\":\n",
        "                destination_path = \"/content/gdrive/MyDrive/sd/stable-diffusion-\"+blasphemy+\"/embeddings\"\n",
        "            pathh = destination_path\n",
        "        destination_file_path = os.path.join(pathh, filename)\n",
        "        if not os.path.exists(pathh):\n",
        "            os.makedirs(pathh)\n",
        "        with open(destination_file_path, \"wb\") as f:\n",
        "            for chunk in response.iter_content(chunk_size=block_size):\n",
        "                if chunk:\n",
        "                    f.write(chunk)\n",
        "                    progress_bar.update(len(chunk))\n",
        "        progress_bar.close()\n",
        "        print(f\"Файл {filename} загрузился в папку по пути {pathh}.\")\n",
        "    elif \"huggingface\" in URL:\n",
        "        response = requests.get(URL, stream=True)\n",
        "        total_size = int(response.headers.get(\"content-length\", 0))\n",
        "        block_size = 1024 # 1 Kibibyte\n",
        "        progress_bar_length = 512\n",
        "        progress_bar = tqdm(total=total_size, unit=\"iB\", unit_scale=True, ncols=progress_bar_length)\n",
        "        filename = URL.split(\"/\")[-1]\n",
        "        if path:\n",
        "            pathh = path.format(blasphemy=blasphemy)\n",
        "        else:\n",
        "            if Directory == \"Model\":\n",
        "                destination_path = \"/content/gdrive/MyDrive/sd/stable-diffusion-\"+blasphemy+\"/models/Stable-diffusion\"\n",
        "            elif Directory == \"VAE\":\n",
        "                destination_path = \"/content/gdrive/MyDrive/sd/stable-diffusion-\"+blasphemy+\"/models/VAE\"\n",
        "            elif Directory == \"Lora\":\n",
        "                destination_path = \"/content/gdrive/MyDrive/sd/stable-diffusion-\"+blasphemy+\"/models/Lora\"\n",
        "            elif Directory == \"Hypernetworks\":\n",
        "                destination_path = \"/content/gdrive/MyDrive/sd/stable-diffusion-\"+blasphemy+\"/models/hypernetworks\"\n",
        "            elif Directory == \"Textual Inversions\":\n",
        "                destination_path = \"/content/gdrive/MyDrive/sd/stable-diffusion-\"+blasphemy+\"/embeddings\"\n",
        "            pathh = destination_path\n",
        "        destination_file_path = os.path.join(pathh, filename)\n",
        "        if not os.path.exists(pathh):\n",
        "            os.makedirs(pathh)\n",
        "        with open(destination_file_path, \"wb\") as f:\n",
        "            for chunk in response.iter_content(chunk_size=block_size):\n",
        "                if chunk:\n",
        "                    f.write(chunk)\n",
        "                    progress_bar.update(len(chunk))\n",
        "        progress_bar.close()\n",
        "        print(f\"Файл {filename} загрузился в папку по пути {pathh}.\")\n",
        "    else:\n",
        "       print(\"Пожалуйста, введите ссылку на модель с сайта \\033[93mHuggingFace\\033[0m или \\x1b[38;5;21mCivitAI\\033[0m\")"
      ],
      "metadata": {
        "colab": {
          "base_uri": "https://localhost:8080/"
        },
        "cellView": "form",
        "id": "l5NdEUs6YnvJ",
        "outputId": "d209f682-ee8a-47b9-e14e-c51ff2604382"
      },
      "execution_count": null,
      "outputs": [
        {
          "output_type": "stream",
          "name": "stdout",
          "text": [
            "Пожалуйста, введите ссылку на модель с сайта \u001b[93mHuggingFace\u001b[0m или \u001b[38;5;21mCivitAI\u001b[0m\n"
          ]
        }
      ]
    }
  ]
}